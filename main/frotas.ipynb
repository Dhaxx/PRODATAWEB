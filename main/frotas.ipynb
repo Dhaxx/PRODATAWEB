{
 "cells": [
  {
   "cell_type": "markdown",
   "id": "4854b983",
   "metadata": {},
   "source": [
    "# 🔌CONEXÃO\n",
    "Estabelecer conexão com os bancos"
   ]
  },
  {
   "cell_type": "code",
   "execution_count": 8,
   "id": "84e9fa09",
   "metadata": {},
   "outputs": [],
   "source": [
    "import psycopg2\n",
    "from psycopg2.extras import DictCursor\n",
    "import fdb\n",
    "from dotenv import load_dotenv\n",
    "import os\n",
    "\n",
    "load_dotenv()\n",
    "\n",
    "# Conexões\n",
    "cnx_dest = fdb.connect(\n",
    "    user=os.getenv(\"FDB_USER\"),\n",
    "    password=os.getenv(\"FDB_PASS\"),\n",
    "    host=os.getenv(\"FDB_HOST\"),\n",
    "    port=int(os.getenv(\"FDB_PORT\")),\n",
    "    database=os.getenv(\"FDB_PATH\"),\n",
    "    charset=\"WIN1252\"\n",
    ")\n",
    "cur_dest = cnx_dest.cursor()\n",
    "\n",
    "cnx_orig = psycopg2.connect(\n",
    "    user=os.getenv(\"PG_USER\"),\n",
    "    password=f'{os.getenv(\"PG_PASS\")}',\n",
    "    host=os.getenv(\"PG_HOST\"),\n",
    "    database=os.getenv(\"PG_DB\"),\n",
    ")\n",
    "cnx_orig.autocommit = True\n",
    "cur_orig = cnx_orig.cursor(cursor_factory=DictCursor)\n",
    "\n",
    "def commit():\n",
    "    cnx_dest.commit()"
   ]
  },
  {
   "cell_type": "markdown",
   "id": "d0fdc941",
   "metadata": {},
   "source": [
    "# 🛠️ FERRAMENTAS\n",
    "Funções, variáveis cache, hashmaps"
   ]
  },
  {
   "cell_type": "code",
   "execution_count": 9,
   "id": "630f87d1",
   "metadata": {},
   "outputs": [],
   "source": [
    "global cadest, empresa, exercicio\n",
    "cadest = {}\n",
    "empresa = cur_dest.execute(\"SELECT empresa FROM cadcli\").fetchone()[0]\n",
    "exercicio = '2025' #cur_dest.execute(\"SELECT mexer FROM cadcli\").fetchone()[0]\n",
    "\n",
    "def limpa_tabela(tabelas):\n",
    "    for tabela in tabelas:\n",
    "        cur_dest.execute(f\"DELETE FROM {tabela}\")\n",
    "    commit()\n",
    "\n",
    "def cria_coluna(tabela, coluna):\n",
    "    try:\n",
    "        cur_dest.execute(f\"ALTER TABLE {tabela} ADD {coluna} VARCHAR(255)\")\n",
    "    except fdb.DatabaseError as e:\n",
    "        print(f\"Erro ao criar coluna {coluna} na tabela {tabela}: {e}\")\n",
    "    else:\n",
    "        commit()\n",
    "\n",
    "def cria_coluna(tabela, coluna):\n",
    "    try:\n",
    "        cur_dest.execute(f\"ALTER TABLE {tabela} ADD {coluna} VARCHAR(255)\")\n",
    "    except fdb.DatabaseError as e:\n",
    "        print(f\"Erro ao criar coluna {coluna} na tabela {tabela}: {e}\")\n",
    "    else:\n",
    "        commit()\n",
    "\n",
    "def to_cp1252_safe(value, replace_with=''):\n",
    "    \"\"\"\n",
    "    Converte uma string para cp1252 de forma segura.\n",
    "    Remove ou substitui caracteres inválidos.\n",
    "\n",
    "    :param value: valor a converter\n",
    "    :param replace_with: string usada no lugar de caracteres inválidos (default = '')\n",
    "    :return: valor limpo\n",
    "    \"\"\"\n",
    "    if isinstance(value, str):\n",
    "        try:\n",
    "            # Tenta converter diretamente\n",
    "            value.encode('cp1252')\n",
    "            return value\n",
    "        except UnicodeEncodeError:\n",
    "            # Remove/substitui caracteres inválidos\n",
    "            return value.encode('cp1252', errors='replace').decode('cp1252').replace('?', replace_with)\n",
    "    return value\n",
    "\n",
    "cur_dest.execute(\"SELECT codreduz, max(cadpro) FROM cadest group by 1\")\n",
    "if cur_dest.description is None:\n",
    "    print(\"CADEST VAZIA!\")\n",
    "else:\n",
    "    cadest = {k:v for k,v in cur_dest.execute(\"SELECT codreduz, max(cadpro) FROM cadest group by 1\").fetchall()}\n"
   ]
  },
  {
   "cell_type": "markdown",
   "id": "5a655144",
   "metadata": {},
   "source": [
    "# CADASTROS"
   ]
  },
  {
   "cell_type": "markdown",
   "id": "11d6e2a5",
   "metadata": {},
   "source": [
    "## TIPO VEÍCULO"
   ]
  },
  {
   "cell_type": "code",
   "execution_count": 10,
   "id": "641e1b6d",
   "metadata": {},
   "outputs": [],
   "source": [
    "limpa_tabela((\"veiculo_tipo\",))\n",
    "\n",
    "insert = cur_dest.prep(\"insert into veiculo_tipo(codigo_tip, descricao_tip) values(?, ?)\")\n",
    "\n",
    "tipos = [\n",
    "    (3, 'VEÍCULOS'),\n",
    "    (4, 'MÁQUINAS'),\n",
    "    (99, 'FERRAMENTAS'),\n",
    "]\n",
    "\n",
    "for tipo in tipos:\n",
    "    cur_dest.execute(insert, tipo)\n",
    "commit()"
   ]
  },
  {
   "cell_type": "markdown",
   "id": "e33e9ef8",
   "metadata": {},
   "source": [
    "## MARCAS"
   ]
  },
  {
   "cell_type": "code",
   "execution_count": 11,
   "id": "78a5b60e",
   "metadata": {},
   "outputs": [],
   "source": [
    "limpa_tabela(('veiculo_marca',))\n",
    "\n",
    "insert = cur_dest.prep(\"insert into veiculo_marca(codigo_mar, descricao_mar) values('0', 'NÃO INFORMADO')\")\n",
    "cur_dest.execute(insert)\n",
    "commit()"
   ]
  },
  {
   "cell_type": "markdown",
   "id": "3e3732b4",
   "metadata": {},
   "source": [
    "## VEÍCULO"
   ]
  },
  {
   "cell_type": "code",
   "execution_count": 18,
   "id": "c163be15",
   "metadata": {},
   "outputs": [],
   "source": [
    "limpa_tabela(('veiculo',))\n",
    "\n",
    "insert = cur_dest.prep(\"insert into veiculo(placa, modelo, combustivel, anomod, renavam, chassi, codigo_marca_vei, codigo_tipo_vei, aquisicao, codigo_bem_par, tanque, inativo, sequencia, cor, kmatual, kminicial, dtbaixa, notaexpbaixa) values(?, ?, ?, ?, ?, ?, ?, ?, ?, ?, ?, ?, ?, ?, ?, ?, ?, ?)\")\n",
    "\n",
    "cur_orig.execute(\"\"\"\n",
    "select\n",
    "\treplace(\"CD_PLACA\",'-','') placa,\n",
    "\t\"DS_MODELO\" modelo,\n",
    "\t\"TP_COMBUSTIVEL\" combustivel,\n",
    "\t\"ANO_MODELO\" anomod,\n",
    "\t\"RENAVAM\" renavam,\n",
    "\t\"CHASSI\" chassi,\n",
    "\t\"CD_MARCA\" codigo_marca_vei,\n",
    "\t\"TP_VEICULO\" codigo_tipo_vei,\n",
    "\t\"DT_COMPRA\" aquisicao,\n",
    "\t\"NR_TOMBAMENTO\" codigo_bem_par,\n",
    "\t\"QT_LITROS\" tanque,\n",
    "\tcase when \"BLOQUEADO\" = 0 then 'S' else 'N' end inativo,\n",
    "\t\"CD_VEICULO\" sequencia,\n",
    "\t\"DS_COR\" cor,\n",
    "    \"KM_INICIAL\" inicial,\n",
    "\t\"KM_ATUAL\" atual,\n",
    "\t\"DT_BAIXA\",\n",
    "\t\"DS_BAIXA\"\n",
    "from \"SCH\".\"VEICULOS\"\n",
    "\"\"\")\n",
    "\n",
    "for row in cur_orig:\n",
    "    cur_dest.execute(insert, (row['placa'], row['modelo'], row['combustivel'], row['anomod'], row['renavam'], row['chassi'], row['codigo_marca_vei'], row['codigo_tipo_vei'], row['aquisicao'], row['codigo_bem_par'], row['tanque'], row['inativo'], row['sequencia'], row['cor'], row['atual'], row['inicial'], row['DT_BAIXA'], row['DS_BAIXA']))\n",
    "commit()"
   ]
  }
 ],
 "metadata": {
  "kernelspec": {
   "display_name": "venv (3.12.6)",
   "language": "python",
   "name": "python3"
  },
  "language_info": {
   "codemirror_mode": {
    "name": "ipython",
    "version": 3
   },
   "file_extension": ".py",
   "mimetype": "text/x-python",
   "name": "python",
   "nbconvert_exporter": "python",
   "pygments_lexer": "ipython3",
   "version": "3.12.6"
  }
 },
 "nbformat": 4,
 "nbformat_minor": 5
}
