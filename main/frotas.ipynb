{
 "cells": [
  {
   "cell_type": "markdown",
   "id": "4854b983",
   "metadata": {},
   "source": [
    "# 🔌CONEXÃO\n",
    "Estabelecer conexão com os bancos"
   ]
  },
  {
   "cell_type": "code",
   "execution_count": null,
   "id": "84e9fa09",
   "metadata": {},
   "outputs": [],
   "source": [
    "import psycopg2\n",
    "from psycopg2.extras import DictCursor\n",
    "import fdb\n",
    "from dotenv import load_dotenv\n",
    "import os\n",
    "\n",
    "load_dotenv()\n",
    "\n",
    "# Conexões\n",
    "cnx_dest = fdb.connect(\n",
    "    user=os.getenv(\"FDB_USER\"),\n",
    "    password=os.getenv(\"FDB_PASS\"),\n",
    "    host=os.getenv(\"FDB_HOST\"),\n",
    "    port=int(os.getenv(\"FDB_PORT\")),\n",
    "    database=os.getenv(\"FDB_PATH\"),\n",
    "    charset=\"WIN1252\"\n",
    ")\n",
    "cur_dest = cnx_dest.cursor()\n",
    "\n",
    "cnx_orig = psycopg2.connect(\n",
    "    user=os.getenv(\"PG_USER\"),\n",
    "    password=f'{os.getenv(\"PG_PASS\")}',\n",
    "    host=os.getenv(\"PG_HOST\"),\n",
    "    database=os.getenv(\"PG_DB\"),\n",
    ")\n",
    "cnx_orig.autocommit = True\n",
    "cur_orig = cnx_orig.cursor(cursor_factory=DictCursor)\n",
    "\n",
    "def commit():\n",
    "    cnx_dest.commit()"
   ]
  },
  {
   "cell_type": "markdown",
   "id": "d0fdc941",
   "metadata": {},
   "source": [
    "# 🛠️ FERRAMENTAS\n",
    "Funções, variáveis cache, hashmaps"
   ]
  },
  {
   "cell_type": "code",
   "execution_count": 3,
   "id": "630f87d1",
   "metadata": {},
   "outputs": [],
   "source": [
    "global cadest, empresa, exercicio\n",
    "cadest = {}\n",
    "empresa = cur_dest.execute(\"SELECT empresa FROM cadcli\").fetchone()[0]\n",
    "exercicio = '2025' #cur_dest.execute(\"SELECT mexer FROM cadcli\").fetchone()[0]\n",
    "\n",
    "def limpa_tabela(tabelas):\n",
    "    for tabela in tabelas:\n",
    "        cur_dest.execute(f\"DELETE FROM {tabela}\")\n",
    "    commit()\n",
    "\n",
    "def cria_coluna(tabela, coluna):\n",
    "    try:\n",
    "        cur_dest.execute(f\"ALTER TABLE {tabela} ADD {coluna} VARCHAR(255)\")\n",
    "    except fdb.DatabaseError as e:\n",
    "        print(f\"Erro ao criar coluna {coluna} na tabela {tabela}: {e}\")\n",
    "    else:\n",
    "        commit()\n",
    "\n",
    "def cria_coluna(tabela, coluna):\n",
    "    try:\n",
    "        cur_dest.execute(f\"ALTER TABLE {tabela} ADD {coluna} VARCHAR(255)\")\n",
    "    except fdb.DatabaseError as e:\n",
    "        print(f\"Erro ao criar coluna {coluna} na tabela {tabela}: {e}\")\n",
    "    else:\n",
    "        commit()\n",
    "\n",
    "def to_cp1252_safe(value, replace_with=''):\n",
    "    \"\"\"\n",
    "    Converte uma string para cp1252 de forma segura.\n",
    "    Remove ou substitui caracteres inválidos.\n",
    "\n",
    "    :param value: valor a converter\n",
    "    :param replace_with: string usada no lugar de caracteres inválidos (default = '')\n",
    "    :return: valor limpo\n",
    "    \"\"\"\n",
    "    if isinstance(value, str):\n",
    "        try:\n",
    "            # Tenta converter diretamente\n",
    "            value.encode('cp1252')\n",
    "            return value\n",
    "        except UnicodeEncodeError:\n",
    "            # Remove/substitui caracteres inválidos\n",
    "            return value.encode('cp1252', errors='replace').decode('cp1252').replace('?', replace_with)\n",
    "    return value\n",
    "\n",
    "cur_dest.execute(\"SELECT codreduz, max(cadpro) FROM cadest group by 1\")\n",
    "if cur_dest.description is None:\n",
    "    print(\"CADEST VAZIA!\")\n",
    "else:\n",
    "    cadest = {k:v for k,v in cur_dest.execute(\"SELECT codreduz, max(cadpro) FROM cadest group by 1\").fetchall()}\n"
   ]
  },
  {
   "cell_type": "markdown",
   "id": "5a655144",
   "metadata": {},
   "source": [
    "# CADASTROS"
   ]
  },
  {
   "cell_type": "markdown",
   "id": "11d6e2a5",
   "metadata": {},
   "source": [
    "## TIPO VEÍCULO"
   ]
  },
  {
   "cell_type": "code",
   "execution_count": 4,
   "id": "641e1b6d",
   "metadata": {},
   "outputs": [],
   "source": [
    "limpa_tabela((\"veiculo_tipo\",))\n",
    "\n",
    "insert = cur_dest.prep(\"insert into veiculo_tipo(codigo_tip, descricao_tip) values(?, ?)\")\n",
    "\n",
    "tipos = [\n",
    "    (3, 'VEÍCULOS'),\n",
    "    (4, 'MÁQUINAS'),\n",
    "    (99, 'FERRAMENTAS'),\n",
    "]\n",
    "\n",
    "for tipo in tipos:\n",
    "    cur_dest.execute(insert, tipo)\n",
    "commit()"
   ]
  },
  {
   "cell_type": "markdown",
   "id": "e33e9ef8",
   "metadata": {},
   "source": [
    "## MARCAS"
   ]
  },
  {
   "cell_type": "code",
   "execution_count": 5,
   "id": "78a5b60e",
   "metadata": {},
   "outputs": [],
   "source": [
    "limpa_tabela(('veiculo_marca',))\n",
    "\n",
    "insert = cur_dest.prep(\"insert into veiculo_marca(codigo_mar, descricao_mar) values('0', 'NÃO INFORMADO')\")\n",
    "cur_dest.execute(insert)\n",
    "commit()"
   ]
  },
  {
   "cell_type": "markdown",
   "id": "3e3732b4",
   "metadata": {},
   "source": [
    "## VEÍCULO"
   ]
  },
  {
   "cell_type": "code",
   "execution_count": 6,
   "id": "c163be15",
   "metadata": {},
   "outputs": [
    {
     "ename": "UndefinedTable",
     "evalue": "relation \"cgffrota\" does not exist\nLINE 18:  cgffrota a\n          ^\n",
     "output_type": "error",
     "traceback": [
      "\u001b[31m---------------------------------------------------------------------------\u001b[39m",
      "\u001b[31mUndefinedTable\u001b[39m                            Traceback (most recent call last)",
      "\u001b[36mCell\u001b[39m\u001b[36m \u001b[39m\u001b[32mIn[6]\u001b[39m\u001b[32m, line 5\u001b[39m\n\u001b[32m      1\u001b[39m limpa_tabela((\u001b[33m'\u001b[39m\u001b[33mveiculo\u001b[39m\u001b[33m'\u001b[39m,))\n\u001b[32m      3\u001b[39m insert = cur_dest.prep(\u001b[33m\"\u001b[39m\u001b[33minsert into veiculo(placa, modelo, combustivel, anomod, renavam, chassi, codigo_marca_vei, codigo_tipo_vei, aquisicao, codigo_bem_par, tanque, inativo, sequencia, cor) values(?, ?, ?, ?, ?, ?, ?, ?, ?, ?, ?, ?, ?, ?)\u001b[39m\u001b[33m\"\u001b[39m)\n\u001b[32m----> \u001b[39m\u001b[32m5\u001b[39m \u001b[43mcur_orig\u001b[49m\u001b[43m.\u001b[49m\u001b[43mexecute\u001b[49m\u001b[43m(\u001b[49m\u001b[33;43m\"\"\"\u001b[39;49m\n\u001b[32m      6\u001b[39m \u001b[33;43mselect\u001b[39;49m\n\u001b[32m      7\u001b[39m \u001b[33;43m\ta.frota,\u001b[39;49m\n\u001b[32m      8\u001b[39m \u001b[33;43m\tmodelo,\u001b[39;49m\n\u001b[32m      9\u001b[39m \u001b[33;43m\tsubstr(c.descricao,1,1) combustivel,\u001b[39;49m\n\u001b[32m     10\u001b[39m \u001b[33;43m\tsubstr(anomodelo,1,4) anomodelo,\u001b[39;49m\n\u001b[32m     11\u001b[39m \u001b[33;43m\tb.renavam,\u001b[39;49m\n\u001b[32m     12\u001b[39m \u001b[33;43m\tchassi,\u001b[39;49m\n\u001b[32m     13\u001b[39m \u001b[33;43m\ta.marca,\u001b[39;49m\n\u001b[32m     14\u001b[39m \u001b[33;43m\td.codigo_categ tipo,\u001b[39;49m\n\u001b[32m     15\u001b[39m \u001b[33;43m\ta.aquisicao::date aquisicao,\u001b[39;49m\n\u001b[32m     16\u001b[39m \u001b[33;43m\ta.codigobem,\u001b[39;49m\n\u001b[32m     17\u001b[39m \u001b[33;43m\ttanque,\u001b[39;49m\n\u001b[32m     18\u001b[39m \u001b[33;43m\ta.ativo,\u001b[39;49m\n\u001b[32m     19\u001b[39m \u001b[33;43m\trow_number() over (order by a.frota) as sequencia,\u001b[39;49m\n\u001b[32m     20\u001b[39m \u001b[33;43m\ta.cor\u001b[39;49m\n\u001b[32m     21\u001b[39m \u001b[33;43mfrom\u001b[39;49m\n\u001b[32m     22\u001b[39m \u001b[33;43m\tcgffrota a\u001b[39;49m\n\u001b[32m     23\u001b[39m \u001b[33;43mjoin cgfveiculo b on a.frota = b.frota\u001b[39;49m\n\u001b[32m     24\u001b[39m \u001b[33;43mleft join cgfcombustivel c on a.combustivel = c.codigo\u001b[39;49m\n\u001b[32m     25\u001b[39m \u001b[33;43mleft join (select row_number() over (order by categoria, codigo) codigo_categ, categoria, codigo from cgfcategtipo) d on a.tipofrota = d.categoria and b.tipo = d.codigo\u001b[39;49m\n\u001b[32m     26\u001b[39m \u001b[33;43m\"\"\"\u001b[39;49m\u001b[43m)\u001b[49m\n\u001b[32m     28\u001b[39m \u001b[38;5;28;01mfor\u001b[39;00m row \u001b[38;5;129;01min\u001b[39;00m cur_orig:\n\u001b[32m     29\u001b[39m     cur_dest.execute(insert, (row[\u001b[33m'\u001b[39m\u001b[33mfrota\u001b[39m\u001b[33m'\u001b[39m], row[\u001b[33m'\u001b[39m\u001b[33mmodelo\u001b[39m\u001b[33m'\u001b[39m], row[\u001b[33m'\u001b[39m\u001b[33mcombustivel\u001b[39m\u001b[33m'\u001b[39m], row[\u001b[33m'\u001b[39m\u001b[33manomodelo\u001b[39m\u001b[33m'\u001b[39m], row[\u001b[33m'\u001b[39m\u001b[33mrenavam\u001b[39m\u001b[33m'\u001b[39m], row[\u001b[33m'\u001b[39m\u001b[33mchassi\u001b[39m\u001b[33m'\u001b[39m], row[\u001b[33m'\u001b[39m\u001b[33mmarca\u001b[39m\u001b[33m'\u001b[39m], row[\u001b[33m'\u001b[39m\u001b[33mtipo\u001b[39m\u001b[33m'\u001b[39m], row[\u001b[33m'\u001b[39m\u001b[33maquisicao\u001b[39m\u001b[33m'\u001b[39m], row[\u001b[33m'\u001b[39m\u001b[33mcodigobem\u001b[39m\u001b[33m'\u001b[39m], row[\u001b[33m'\u001b[39m\u001b[33mtanque\u001b[39m\u001b[33m'\u001b[39m], row[\u001b[33m'\u001b[39m\u001b[33mativo\u001b[39m\u001b[33m'\u001b[39m], row[\u001b[33m'\u001b[39m\u001b[33msequencia\u001b[39m\u001b[33m'\u001b[39m], row[\u001b[33m'\u001b[39m\u001b[33mcor\u001b[39m\u001b[33m'\u001b[39m]))\n",
      "\u001b[36mFile \u001b[39m\u001b[32mc:\\Conversao\\PRODATAWEB\\venv\\Lib\\site-packages\\psycopg2\\extras.py:146\u001b[39m, in \u001b[36mDictCursor.execute\u001b[39m\u001b[34m(self, query, vars)\u001b[39m\n\u001b[32m    144\u001b[39m \u001b[38;5;28mself\u001b[39m.index = OrderedDict()\n\u001b[32m    145\u001b[39m \u001b[38;5;28mself\u001b[39m._query_executed = \u001b[38;5;28;01mTrue\u001b[39;00m\n\u001b[32m--> \u001b[39m\u001b[32m146\u001b[39m \u001b[38;5;28;01mreturn\u001b[39;00m \u001b[38;5;28;43msuper\u001b[39;49m\u001b[43m(\u001b[49m\u001b[43m)\u001b[49m\u001b[43m.\u001b[49m\u001b[43mexecute\u001b[49m\u001b[43m(\u001b[49m\u001b[43mquery\u001b[49m\u001b[43m,\u001b[49m\u001b[43m \u001b[49m\u001b[38;5;28;43mvars\u001b[39;49m\u001b[43m)\u001b[49m\n",
      "\u001b[31mUndefinedTable\u001b[39m: relation \"cgffrota\" does not exist\nLINE 18:  cgffrota a\n          ^\n"
     ]
    }
   ],
   "source": [
    "limpa_tabela(('veiculo',))\n",
    "\n",
    "insert = cur_dest.prep(\"insert into veiculo(placa, modelo, combustivel, anomod, renavam, chassi, codigo_marca_vei, codigo_tipo_vei, aquisicao, codigo_bem_par, tanque, inativo, sequencia, cor) values(?, ?, ?, ?, ?, ?, ?, ?, ?, ?, ?, ?, ?, ?)\")\n",
    "\n",
    "cur_orig.execute(\"\"\"\n",
    "select\n",
    "\ta.frota,\n",
    "\tmodelo,\n",
    "\tsubstr(c.descricao,1,1) combustivel,\n",
    "\tsubstr(anomodelo,1,4) anomodelo,\n",
    "\tb.renavam,\n",
    "\tchassi,\n",
    "\ta.marca,\n",
    "\td.codigo_categ tipo,\n",
    "\ta.aquisicao::date aquisicao,\n",
    "\ta.codigobem,\n",
    "\ttanque,\n",
    "\ta.ativo,\n",
    "\trow_number() over (order by a.frota) as sequencia,\n",
    "\ta.cor\n",
    "from\n",
    "\tcgffrota a\n",
    "join cgfveiculo b on a.frota = b.frota\n",
    "left join cgfcombustivel c on a.combustivel = c.codigo\n",
    "left join (select row_number() over (order by categoria, codigo) codigo_categ, categoria, codigo from cgfcategtipo) d on a.tipofrota = d.categoria and b.tipo = d.codigo\n",
    "\"\"\")\n",
    "\n",
    "for row in cur_orig:\n",
    "    cur_dest.execute(insert, (row['frota'], row['modelo'], row['combustivel'], row['anomodelo'], row['renavam'], row['chassi'], row['marca'], row['tipo'], row['aquisicao'], row['codigobem'], row['tanque'], row['ativo'], row['sequencia'], row['cor']))\n",
    "commit()"
   ]
  }
 ],
 "metadata": {
  "kernelspec": {
   "display_name": "venv (3.12.6)",
   "language": "python",
   "name": "python3"
  },
  "language_info": {
   "codemirror_mode": {
    "name": "ipython",
    "version": 3
   },
   "file_extension": ".py",
   "mimetype": "text/x-python",
   "name": "python",
   "nbconvert_exporter": "python",
   "pygments_lexer": "ipython3",
   "version": "3.12.6"
  }
 },
 "nbformat": 4,
 "nbformat_minor": 5
}
